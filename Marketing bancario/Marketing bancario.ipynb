{
 "cells": [
  {
   "cell_type": "markdown",
   "id": "ef0903b3",
   "metadata": {},
   "source": [
    "## Introducción\n",
    "\n",
    "Este conjunto de datos contiene datos de campañas de marketing bancarias y podemos utilizarlo para optimizar las campañas de marketing y atraer a más clientes a la suscripción de depósitos a plazo. \n",
    "\n",
    "El análisis de los datos de marketing de la organización es una de las aplicaciones más comunes de la ciencia de datos y el aprendizaje automático. Este análisis se me hizo interesante y sin ninguna duda podemos aprovecharlo\n",
    "\n",
    "En general, los conjuntos de datos que contienen datos de marketing pueden utilizarse para dos objetivos comerciales diferentes:\n",
    "\n",
    "1.- Predicción de los resultados de la campaña de marketing para cada cliente y aclaración de los factores que afectan a dichos resultados. Esto nos ayudara a encontrar maneras de optimizar las campañas de marketing y en la toma de decisiones.\n",
    "\n",
    "2.- Determinación de segmentos de clientes mediante datos de clientes que suscribieron un depósito a plazo. Esto ayuda a identificar el perfil del cliente con mayor probabilidad de adquirir el producto y a desarrollar campañas de marketing mas orientedas a un perfil de clientes en especifico.\n",
    "\n",
    "\n",
    "\n",
    "## Enfoque\n",
    "\n",
    "Para optimizar las campañas de marketing con la ayuda del conjunto de datos, debemos seguir los siguientes pasos:\n",
    "\n",
    "Primero realizaremos un análisis inicial de alto nivel de nuestro conjunto de datos(Preprocesamiento): que conlleva examinar el número de filas, los valores faltantes y las columnas del conjunto de datos y sus valores en relación con el resultado de la campaña.\n",
    "Depurar los datos: eliminar las columnas irrelevantes, gestionar los valores faltantes e incorrectos, y convertir las columnas categóricas en variables ficticias.\n",
    "\n",
    "Por ultimo vamos a utilizar técnicas de aprendizaje automático para predecir el resultado de la campaña de marketing y determinar los factores que influyen en el exito de este."
   ]
  },
  {
   "cell_type": "markdown",
   "id": "87d5dabd",
   "metadata": {},
   "source": [
    "## Datos del cliente bancario:\n",
    "1 - Age: (numérico)\n",
    "\n",
    "2 - job: tipo de trabajo (categórico: 'administrador', 'obrero', 'emprendedor', 'empleado doméstico', 'gerente', 'jubilado', 'autónomo', 'servicios', 'estudiante', 'técnico', 'desempleado', 'desconocido')\n",
    "\n",
    "3 - marital: estado civil (categórico: 'divorciado', 'casado', 'soltero', 'desconocido'; nota: 'divorciado' significa divorciado o viudo)\n",
    "\n",
    "4 - education: (categórico: primaria, secundaria, terciaria y desconocido)\n",
    "\n",
    "5 - default: ¿tiene crédito en mora? (categórico: 'no', 'sí', 'desconocido')\n",
    "\n",
    "6 - housing: ¿tiene préstamo hipotecario? (categórico: 'no', 'sí', 'desconocido')\n",
    "\n",
    "7 - loan: ¿tiene préstamo personal? (categórico: 'no', 'sí', 'desconocido')\n",
    "\n",
    "8 - balance: Saldo del individuo.\n",
    "\n",
    "\n",
    "## Relacionado con el último contacto de la campaña actual:\n",
    "8 - contact: tipo de comunicación del contacto (categórico: 'celular', 'teléfono')\n",
    "\n",
    "9 - month: mes del último contacto del año (categórico: 'ene', 'feb', 'mar', ..., 'nov', 'dic')\n",
    "\n",
    "10 - day: día de la semana del último contacto (categórico: 'lun', 'mar', 'mié', 'jue', 'vie')\n",
    "\n",
    "11 - duration: duración del último contacto, en segundos (numérico). Nota importante: este atributo afecta considerablemente el objetivo de salida (p. ej., si duración = 0, entonces y = 'no'). Sin embargo, la duración no se conoce antes de que se realice una llamada. Además, después de la finalización de la llamada, y es obviamente conocido. Por lo tanto, esta entrada solo debe incluirse con fines de referencia y debe descartarse si se pretende obtener un modelo predictivo realista.\n",
    "\n",
    "## Otros atributos:\n",
    "\n",
    "12 - campaign: número de contactos realizados durante esta campaña y para este cliente (numérico, incluye el último contacto)\n",
    "\n",
    "13 - pdays: número de días transcurridos desde el último contacto con el cliente de una campaña anterior (numérico; 999 significa que el cliente no fue contactado previamente)\n",
    "\n",
    "14 - previous: número de contactos realizados antes de esta campaña y para este cliente (numérico)\n",
    "\n",
    "15 - poutcome: resultado de la campaña de marketing anterior (categórico: 'fracaso', 'inexistente', 'éxito')\n",
    "\n",
    "Variable de salida (objetivo deseado):\n",
    "\n",
    "y - ¿Ha suscrito el cliente un depósito a plazo? (binario: 'sí', 'no')"
   ]
  },
  {
   "cell_type": "code",
   "execution_count": 3,
   "id": "8cd02980",
   "metadata": {},
   "outputs": [],
   "source": [
    "#importación de bibliotecas de álgebra lineal y manipulación de datos\n",
    "import numpy as np\n",
    "import pandas as pd\n",
    "\n",
    "#importar visualización \n",
    "import matplotlib.pyplot as plt\n",
    "import seaborn as sns\n",
    "\n",
    "#importar machine learning\n",
    "from sklearn.ensemble import RandomForestClassifier\n",
    "from sklearn.ensemble import AdaBoostClassifier, GradientBoostingClassifier\n",
    "from sklearn.svm import SVC\n",
    "from sklearn.neighbors import KNeighborsClassifier\n",
    "from sklearn.naive_bayes import GaussianNB\n",
    "\n",
    "import xgboost\n",
    "\n",
    "from sklearn.model_selection import train_test_split #Dividir el conjunto de entrenamiento\n",
    "from sklearn.metrics import accuracy_score #metrics\n",
    "\n",
    "#herramientas para la búsqueda de hiperparámetros\n",
    "from sklearn.model_selection import StratifiedKFold\n",
    "from sklearn.model_selection import RandomizedSearchCV, GridSearchCV"
   ]
  },
  {
   "cell_type": "code",
   "execution_count": 4,
   "id": "752f11ef",
   "metadata": {},
   "outputs": [],
   "source": [
    "df = pd.read_csv(\"C:/Users/Jesus Eduardo/Documents/Bank marketing/bank.csv\")"
   ]
  },
  {
   "cell_type": "code",
   "execution_count": 6,
   "id": "c04a3eda",
   "metadata": {},
   "outputs": [
    {
     "data": {
      "text/html": [
       "<div>\n",
       "<style scoped>\n",
       "    .dataframe tbody tr th:only-of-type {\n",
       "        vertical-align: middle;\n",
       "    }\n",
       "\n",
       "    .dataframe tbody tr th {\n",
       "        vertical-align: top;\n",
       "    }\n",
       "\n",
       "    .dataframe thead th {\n",
       "        text-align: right;\n",
       "    }\n",
       "</style>\n",
       "<table border=\"1\" class=\"dataframe\">\n",
       "  <thead>\n",
       "    <tr style=\"text-align: right;\">\n",
       "      <th></th>\n",
       "      <th>age</th>\n",
       "      <th>job</th>\n",
       "      <th>marital</th>\n",
       "      <th>education</th>\n",
       "      <th>default</th>\n",
       "      <th>balance</th>\n",
       "      <th>housing</th>\n",
       "      <th>loan</th>\n",
       "      <th>contact</th>\n",
       "      <th>day</th>\n",
       "      <th>month</th>\n",
       "      <th>duration</th>\n",
       "      <th>campaign</th>\n",
       "      <th>pdays</th>\n",
       "      <th>previous</th>\n",
       "      <th>poutcome</th>\n",
       "      <th>deposit</th>\n",
       "    </tr>\n",
       "  </thead>\n",
       "  <tbody>\n",
       "    <tr>\n",
       "      <th>0</th>\n",
       "      <td>59</td>\n",
       "      <td>admin.</td>\n",
       "      <td>married</td>\n",
       "      <td>secondary</td>\n",
       "      <td>no</td>\n",
       "      <td>2343</td>\n",
       "      <td>yes</td>\n",
       "      <td>no</td>\n",
       "      <td>unknown</td>\n",
       "      <td>5</td>\n",
       "      <td>may</td>\n",
       "      <td>1042</td>\n",
       "      <td>1</td>\n",
       "      <td>-1</td>\n",
       "      <td>0</td>\n",
       "      <td>unknown</td>\n",
       "      <td>yes</td>\n",
       "    </tr>\n",
       "    <tr>\n",
       "      <th>1</th>\n",
       "      <td>56</td>\n",
       "      <td>admin.</td>\n",
       "      <td>married</td>\n",
       "      <td>secondary</td>\n",
       "      <td>no</td>\n",
       "      <td>45</td>\n",
       "      <td>no</td>\n",
       "      <td>no</td>\n",
       "      <td>unknown</td>\n",
       "      <td>5</td>\n",
       "      <td>may</td>\n",
       "      <td>1467</td>\n",
       "      <td>1</td>\n",
       "      <td>-1</td>\n",
       "      <td>0</td>\n",
       "      <td>unknown</td>\n",
       "      <td>yes</td>\n",
       "    </tr>\n",
       "    <tr>\n",
       "      <th>2</th>\n",
       "      <td>41</td>\n",
       "      <td>technician</td>\n",
       "      <td>married</td>\n",
       "      <td>secondary</td>\n",
       "      <td>no</td>\n",
       "      <td>1270</td>\n",
       "      <td>yes</td>\n",
       "      <td>no</td>\n",
       "      <td>unknown</td>\n",
       "      <td>5</td>\n",
       "      <td>may</td>\n",
       "      <td>1389</td>\n",
       "      <td>1</td>\n",
       "      <td>-1</td>\n",
       "      <td>0</td>\n",
       "      <td>unknown</td>\n",
       "      <td>yes</td>\n",
       "    </tr>\n",
       "    <tr>\n",
       "      <th>3</th>\n",
       "      <td>55</td>\n",
       "      <td>services</td>\n",
       "      <td>married</td>\n",
       "      <td>secondary</td>\n",
       "      <td>no</td>\n",
       "      <td>2476</td>\n",
       "      <td>yes</td>\n",
       "      <td>no</td>\n",
       "      <td>unknown</td>\n",
       "      <td>5</td>\n",
       "      <td>may</td>\n",
       "      <td>579</td>\n",
       "      <td>1</td>\n",
       "      <td>-1</td>\n",
       "      <td>0</td>\n",
       "      <td>unknown</td>\n",
       "      <td>yes</td>\n",
       "    </tr>\n",
       "    <tr>\n",
       "      <th>4</th>\n",
       "      <td>54</td>\n",
       "      <td>admin.</td>\n",
       "      <td>married</td>\n",
       "      <td>tertiary</td>\n",
       "      <td>no</td>\n",
       "      <td>184</td>\n",
       "      <td>no</td>\n",
       "      <td>no</td>\n",
       "      <td>unknown</td>\n",
       "      <td>5</td>\n",
       "      <td>may</td>\n",
       "      <td>673</td>\n",
       "      <td>2</td>\n",
       "      <td>-1</td>\n",
       "      <td>0</td>\n",
       "      <td>unknown</td>\n",
       "      <td>yes</td>\n",
       "    </tr>\n",
       "    <tr>\n",
       "      <th>5</th>\n",
       "      <td>42</td>\n",
       "      <td>management</td>\n",
       "      <td>single</td>\n",
       "      <td>tertiary</td>\n",
       "      <td>no</td>\n",
       "      <td>0</td>\n",
       "      <td>yes</td>\n",
       "      <td>yes</td>\n",
       "      <td>unknown</td>\n",
       "      <td>5</td>\n",
       "      <td>may</td>\n",
       "      <td>562</td>\n",
       "      <td>2</td>\n",
       "      <td>-1</td>\n",
       "      <td>0</td>\n",
       "      <td>unknown</td>\n",
       "      <td>yes</td>\n",
       "    </tr>\n",
       "    <tr>\n",
       "      <th>6</th>\n",
       "      <td>56</td>\n",
       "      <td>management</td>\n",
       "      <td>married</td>\n",
       "      <td>tertiary</td>\n",
       "      <td>no</td>\n",
       "      <td>830</td>\n",
       "      <td>yes</td>\n",
       "      <td>yes</td>\n",
       "      <td>unknown</td>\n",
       "      <td>6</td>\n",
       "      <td>may</td>\n",
       "      <td>1201</td>\n",
       "      <td>1</td>\n",
       "      <td>-1</td>\n",
       "      <td>0</td>\n",
       "      <td>unknown</td>\n",
       "      <td>yes</td>\n",
       "    </tr>\n",
       "    <tr>\n",
       "      <th>7</th>\n",
       "      <td>60</td>\n",
       "      <td>retired</td>\n",
       "      <td>divorced</td>\n",
       "      <td>secondary</td>\n",
       "      <td>no</td>\n",
       "      <td>545</td>\n",
       "      <td>yes</td>\n",
       "      <td>no</td>\n",
       "      <td>unknown</td>\n",
       "      <td>6</td>\n",
       "      <td>may</td>\n",
       "      <td>1030</td>\n",
       "      <td>1</td>\n",
       "      <td>-1</td>\n",
       "      <td>0</td>\n",
       "      <td>unknown</td>\n",
       "      <td>yes</td>\n",
       "    </tr>\n",
       "    <tr>\n",
       "      <th>8</th>\n",
       "      <td>37</td>\n",
       "      <td>technician</td>\n",
       "      <td>married</td>\n",
       "      <td>secondary</td>\n",
       "      <td>no</td>\n",
       "      <td>1</td>\n",
       "      <td>yes</td>\n",
       "      <td>no</td>\n",
       "      <td>unknown</td>\n",
       "      <td>6</td>\n",
       "      <td>may</td>\n",
       "      <td>608</td>\n",
       "      <td>1</td>\n",
       "      <td>-1</td>\n",
       "      <td>0</td>\n",
       "      <td>unknown</td>\n",
       "      <td>yes</td>\n",
       "    </tr>\n",
       "    <tr>\n",
       "      <th>9</th>\n",
       "      <td>28</td>\n",
       "      <td>services</td>\n",
       "      <td>single</td>\n",
       "      <td>secondary</td>\n",
       "      <td>no</td>\n",
       "      <td>5090</td>\n",
       "      <td>yes</td>\n",
       "      <td>no</td>\n",
       "      <td>unknown</td>\n",
       "      <td>6</td>\n",
       "      <td>may</td>\n",
       "      <td>1297</td>\n",
       "      <td>3</td>\n",
       "      <td>-1</td>\n",
       "      <td>0</td>\n",
       "      <td>unknown</td>\n",
       "      <td>yes</td>\n",
       "    </tr>\n",
       "  </tbody>\n",
       "</table>\n",
       "</div>"
      ],
      "text/plain": [
       "   age         job   marital  education default  balance housing loan   \n",
       "0   59      admin.   married  secondary      no     2343     yes   no  \\\n",
       "1   56      admin.   married  secondary      no       45      no   no   \n",
       "2   41  technician   married  secondary      no     1270     yes   no   \n",
       "3   55    services   married  secondary      no     2476     yes   no   \n",
       "4   54      admin.   married   tertiary      no      184      no   no   \n",
       "5   42  management    single   tertiary      no        0     yes  yes   \n",
       "6   56  management   married   tertiary      no      830     yes  yes   \n",
       "7   60     retired  divorced  secondary      no      545     yes   no   \n",
       "8   37  technician   married  secondary      no        1     yes   no   \n",
       "9   28    services    single  secondary      no     5090     yes   no   \n",
       "\n",
       "   contact  day month  duration  campaign  pdays  previous poutcome deposit  \n",
       "0  unknown    5   may      1042         1     -1         0  unknown     yes  \n",
       "1  unknown    5   may      1467         1     -1         0  unknown     yes  \n",
       "2  unknown    5   may      1389         1     -1         0  unknown     yes  \n",
       "3  unknown    5   may       579         1     -1         0  unknown     yes  \n",
       "4  unknown    5   may       673         2     -1         0  unknown     yes  \n",
       "5  unknown    5   may       562         2     -1         0  unknown     yes  \n",
       "6  unknown    6   may      1201         1     -1         0  unknown     yes  \n",
       "7  unknown    6   may      1030         1     -1         0  unknown     yes  \n",
       "8  unknown    6   may       608         1     -1         0  unknown     yes  \n",
       "9  unknown    6   may      1297         3     -1         0  unknown     yes  "
      ]
     },
     "execution_count": 6,
     "metadata": {},
     "output_type": "execute_result"
    }
   ],
   "source": [
    "#Echamos un promer vistazo a los datos \n",
    "df.head(10)"
   ]
  },
  {
   "cell_type": "markdown",
   "id": "ba729716",
   "metadata": {},
   "source": [
    "Después de importar el conjunto de datos, tenemos que mirar el número total de filas en el conjunto de datos y analizar la cantidad de valores faltantes para poder hacer algo al respecto."
   ]
  },
  {
   "cell_type": "code",
   "execution_count": 8,
   "id": "3bf010d1",
   "metadata": {},
   "outputs": [
    {
     "name": "stdout",
     "output_type": "stream",
     "text": [
      "El conjunto de datos de marketing bancario consta de 11162 filas.\n"
     ]
    }
   ],
   "source": [
    "print(\"El conjunto de datos de marketing bancario consta de {rows} filas.\".format(rows = len(df)))"
   ]
  },
  {
   "cell_type": "code",
   "execution_count": 10,
   "id": "a2c9ba54",
   "metadata": {},
   "outputs": [
    {
     "data": {
      "text/plain": [
       "0.0"
      ]
     },
     "execution_count": 10,
     "metadata": {},
     "output_type": "execute_result"
    }
   ],
   "source": [
    "#y el valor de datos faltantes sera:\n",
    "missing_values = df.isnull().mean()*100\n",
    "\n",
    "missing_values.sum()"
   ]
  },
  {
   "cell_type": "markdown",
   "id": "335cefa3",
   "metadata": {},
   "source": [
    "Como podemos ver es un dataset sin valores faltantes "
   ]
  },
  {
   "cell_type": "markdown",
   "id": "5821c8d6",
   "metadata": {},
   "source": [
    "Exploración de columnas\n",
    "Se tienen columnas categóricas y numéricas. De las categoricas se tiene:"
   ]
  },
  {
   "cell_type": "code",
   "execution_count": 14,
   "id": "378a19f6",
   "metadata": {},
   "outputs": [
    {
     "data": {
      "text/html": [
       "<div>\n",
       "<style scoped>\n",
       "    .dataframe tbody tr th:only-of-type {\n",
       "        vertical-align: middle;\n",
       "    }\n",
       "\n",
       "    .dataframe tbody tr th {\n",
       "        vertical-align: top;\n",
       "    }\n",
       "\n",
       "    .dataframe thead th {\n",
       "        text-align: right;\n",
       "    }\n",
       "</style>\n",
       "<table border=\"1\" class=\"dataframe\">\n",
       "  <thead>\n",
       "    <tr style=\"text-align: right;\">\n",
       "      <th></th>\n",
       "      <th>job</th>\n",
       "      <th>marital</th>\n",
       "      <th>education</th>\n",
       "      <th>default</th>\n",
       "      <th>housing</th>\n",
       "      <th>loan</th>\n",
       "      <th>contact</th>\n",
       "      <th>month</th>\n",
       "      <th>poutcome</th>\n",
       "      <th>deposit</th>\n",
       "    </tr>\n",
       "  </thead>\n",
       "  <tbody>\n",
       "    <tr>\n",
       "      <th>0</th>\n",
       "      <td>admin.</td>\n",
       "      <td>married</td>\n",
       "      <td>secondary</td>\n",
       "      <td>no</td>\n",
       "      <td>yes</td>\n",
       "      <td>no</td>\n",
       "      <td>unknown</td>\n",
       "      <td>may</td>\n",
       "      <td>unknown</td>\n",
       "      <td>yes</td>\n",
       "    </tr>\n",
       "    <tr>\n",
       "      <th>1</th>\n",
       "      <td>admin.</td>\n",
       "      <td>married</td>\n",
       "      <td>secondary</td>\n",
       "      <td>no</td>\n",
       "      <td>no</td>\n",
       "      <td>no</td>\n",
       "      <td>unknown</td>\n",
       "      <td>may</td>\n",
       "      <td>unknown</td>\n",
       "      <td>yes</td>\n",
       "    </tr>\n",
       "    <tr>\n",
       "      <th>2</th>\n",
       "      <td>technician</td>\n",
       "      <td>married</td>\n",
       "      <td>secondary</td>\n",
       "      <td>no</td>\n",
       "      <td>yes</td>\n",
       "      <td>no</td>\n",
       "      <td>unknown</td>\n",
       "      <td>may</td>\n",
       "      <td>unknown</td>\n",
       "      <td>yes</td>\n",
       "    </tr>\n",
       "    <tr>\n",
       "      <th>3</th>\n",
       "      <td>services</td>\n",
       "      <td>married</td>\n",
       "      <td>secondary</td>\n",
       "      <td>no</td>\n",
       "      <td>yes</td>\n",
       "      <td>no</td>\n",
       "      <td>unknown</td>\n",
       "      <td>may</td>\n",
       "      <td>unknown</td>\n",
       "      <td>yes</td>\n",
       "    </tr>\n",
       "    <tr>\n",
       "      <th>4</th>\n",
       "      <td>admin.</td>\n",
       "      <td>married</td>\n",
       "      <td>tertiary</td>\n",
       "      <td>no</td>\n",
       "      <td>no</td>\n",
       "      <td>no</td>\n",
       "      <td>unknown</td>\n",
       "      <td>may</td>\n",
       "      <td>unknown</td>\n",
       "      <td>yes</td>\n",
       "    </tr>\n",
       "    <tr>\n",
       "      <th>...</th>\n",
       "      <td>...</td>\n",
       "      <td>...</td>\n",
       "      <td>...</td>\n",
       "      <td>...</td>\n",
       "      <td>...</td>\n",
       "      <td>...</td>\n",
       "      <td>...</td>\n",
       "      <td>...</td>\n",
       "      <td>...</td>\n",
       "      <td>...</td>\n",
       "    </tr>\n",
       "    <tr>\n",
       "      <th>11157</th>\n",
       "      <td>blue-collar</td>\n",
       "      <td>single</td>\n",
       "      <td>primary</td>\n",
       "      <td>no</td>\n",
       "      <td>yes</td>\n",
       "      <td>no</td>\n",
       "      <td>cellular</td>\n",
       "      <td>apr</td>\n",
       "      <td>unknown</td>\n",
       "      <td>no</td>\n",
       "    </tr>\n",
       "    <tr>\n",
       "      <th>11158</th>\n",
       "      <td>services</td>\n",
       "      <td>married</td>\n",
       "      <td>secondary</td>\n",
       "      <td>no</td>\n",
       "      <td>no</td>\n",
       "      <td>no</td>\n",
       "      <td>unknown</td>\n",
       "      <td>jun</td>\n",
       "      <td>unknown</td>\n",
       "      <td>no</td>\n",
       "    </tr>\n",
       "    <tr>\n",
       "      <th>11159</th>\n",
       "      <td>technician</td>\n",
       "      <td>single</td>\n",
       "      <td>secondary</td>\n",
       "      <td>no</td>\n",
       "      <td>no</td>\n",
       "      <td>no</td>\n",
       "      <td>cellular</td>\n",
       "      <td>aug</td>\n",
       "      <td>unknown</td>\n",
       "      <td>no</td>\n",
       "    </tr>\n",
       "    <tr>\n",
       "      <th>11160</th>\n",
       "      <td>technician</td>\n",
       "      <td>married</td>\n",
       "      <td>secondary</td>\n",
       "      <td>no</td>\n",
       "      <td>no</td>\n",
       "      <td>yes</td>\n",
       "      <td>cellular</td>\n",
       "      <td>may</td>\n",
       "      <td>failure</td>\n",
       "      <td>no</td>\n",
       "    </tr>\n",
       "    <tr>\n",
       "      <th>11161</th>\n",
       "      <td>technician</td>\n",
       "      <td>married</td>\n",
       "      <td>secondary</td>\n",
       "      <td>no</td>\n",
       "      <td>no</td>\n",
       "      <td>no</td>\n",
       "      <td>cellular</td>\n",
       "      <td>jul</td>\n",
       "      <td>unknown</td>\n",
       "      <td>no</td>\n",
       "    </tr>\n",
       "  </tbody>\n",
       "</table>\n",
       "<p>11162 rows × 10 columns</p>\n",
       "</div>"
      ],
      "text/plain": [
       "               job  marital  education default housing loan   contact month   \n",
       "0           admin.  married  secondary      no     yes   no   unknown   may  \\\n",
       "1           admin.  married  secondary      no      no   no   unknown   may   \n",
       "2       technician  married  secondary      no     yes   no   unknown   may   \n",
       "3         services  married  secondary      no     yes   no   unknown   may   \n",
       "4           admin.  married   tertiary      no      no   no   unknown   may   \n",
       "...            ...      ...        ...     ...     ...  ...       ...   ...   \n",
       "11157  blue-collar   single    primary      no     yes   no  cellular   apr   \n",
       "11158     services  married  secondary      no      no   no   unknown   jun   \n",
       "11159   technician   single  secondary      no      no   no  cellular   aug   \n",
       "11160   technician  married  secondary      no      no  yes  cellular   may   \n",
       "11161   technician  married  secondary      no      no   no  cellular   jul   \n",
       "\n",
       "      poutcome deposit  \n",
       "0      unknown     yes  \n",
       "1      unknown     yes  \n",
       "2      unknown     yes  \n",
       "3      unknown     yes  \n",
       "4      unknown     yes  \n",
       "...        ...     ...  \n",
       "11157  unknown      no  \n",
       "11158  unknown      no  \n",
       "11159  unknown      no  \n",
       "11160  failure      no  \n",
       "11161  unknown      no  \n",
       "\n",
       "[11162 rows x 10 columns]"
      ]
     },
     "execution_count": 14,
     "metadata": {},
     "output_type": "execute_result"
    }
   ],
   "source": [
    "df_categoricas = df.select_dtypes(include=['object','category'])\n",
    "df_categoricas"
   ]
  },
  {
   "cell_type": "code",
   "execution_count": 19,
   "id": "08acd4d6",
   "metadata": {},
   "outputs": [
    {
     "name": "stdout",
     "output_type": "stream",
     "text": [
      "\n",
      "Tipos de columnas:\n",
      " age           int64\n",
      "job          object\n",
      "marital      object\n",
      "education    object\n",
      "default      object\n",
      "balance       int64\n",
      "housing      object\n",
      "loan         object\n",
      "contact      object\n",
      "day           int64\n",
      "month        object\n",
      "duration      int64\n",
      "campaign      int64\n",
      "pdays         int64\n",
      "previous      int64\n",
      "poutcome     object\n",
      "deposit      object\n",
      "dtype: object\n",
      "\n",
      "Nombres de columnas categóricas (usando df.dtypes):\n",
      " []\n"
     ]
    }
   ],
   "source": [
    "# 2. Usando df.dtypes\n",
    "tipos_columnas = df.dtypes\n",
    "print(\"\\nTipos de columnas:\\n\", tipos_columnas)\n",
    "\n",
    "# Filtrar para obtener solo los nombres de las columnas categóricas\n",
    "nombres_columnas_categoricas = tipos_columnas[tipos_columnas.isin(['object', 'category'])].index.tolist()\n",
    "print(\"\\nNombres de columnas categóricas (usando df.dtypes):\\n\", nombres_columnas_categoricas)"
   ]
  },
  {
   "cell_type": "markdown",
   "id": "e1addffe",
   "metadata": {},
   "source": [
    "## Nos interesan las de tipo Object\n",
    "\n",
    "## Para col. categoricas se tiene:"
   ]
  },
  {
   "cell_type": "code",
   "execution_count": 20,
   "id": "9339a763",
   "metadata": {},
   "outputs": [
    {
     "data": {
      "image/png": "[encoded data removed]",
      "text/plain": [
       "<Figure size 1440x1080 with 9 Axes>"
      ]
     },
     "metadata": {
      "needs_background": "light"
     },
     "output_type": "display_data"
    }
   ],
   "source": [
    "cat_columns = ['job', 'marital', 'education', 'default', 'housing', 'loan', 'contact', 'month','poutcome']\n",
    "\n",
    "fig, axs = plt.subplots(3, 3, sharex=False, sharey=False, figsize=(20, 15))\n",
    "\n",
    "counter = 0\n",
    "for cat_column in cat_columns:\n",
    "    value_counts = df[cat_column].value_counts()\n",
    "    \n",
    "    trace_x = counter // 3\n",
    "    trace_y = counter % 3\n",
    "    x_pos = np.arange(0, len(value_counts))\n",
    "    \n",
    "    axs[trace_x, trace_y].bar(x_pos, value_counts.values, tick_label = value_counts.index)\n",
    "    \n",
    "    axs[trace_x, trace_y].set_title(cat_column)\n",
    "    \n",
    "    for tick in axs[trace_x, trace_y].get_xticklabels():\n",
    "        tick.set_rotation(90)\n",
    "    \n",
    "    counter += 1\n",
    "\n",
    "plt.show()"
   ]
  },
  {
   "cell_type": "markdown",
   "id": "bc52e260",
   "metadata": {},
   "source": [
    "## Para las columnas numericas se tiene(histograma):"
   ]
  },
  {
   "cell_type": "code",
   "execution_count": 23,
   "id": "3284021d",
   "metadata": {},
   "outputs": [
    {
     "data": {
      "image/png": "[encoded data removed]",
      "text/plain": [
       "<Figure size 1440x1080 with 6 Axes>"
      ]
     },
     "metadata": {
      "needs_background": "light"
     },
     "output_type": "display_data"
    }
   ],
   "source": [
    "num_columns = ['balance', 'day','duration', 'campaign', 'pdays', 'previous']\n",
    "\n",
    "fig, axs = plt.subplots(2, 3, sharex=False, sharey=False, figsize=(20, 15))\n",
    "\n",
    "counter = 0\n",
    "for num_column in num_columns:\n",
    "    \n",
    "    trace_x = counter // 3\n",
    "    trace_y = counter % 3\n",
    "    \n",
    "    axs[trace_x, trace_y].hist(df[num_column])\n",
    "    \n",
    "    axs[trace_x, trace_y].set_title(num_column)\n",
    "    \n",
    "    counter += 1\n",
    "\n",
    "plt.show()"
   ]
  },
  {
   "cell_type": "markdown",
   "id": "45259568",
   "metadata": {},
   "source": [
    "Se observa que las columnas numéricas tienen valores atípicos ( \"campaña\", \"pdays\"  y \"anterior\"), ay que analizar los valores que causan ruido.\n",
    "\n",
    "Analicemos con más detalle los valores de las columnas \"campaña\", \"pdays\" y \"anterior\":"
   ]
  },
  {
   "cell_type": "code",
   "execution_count": 24,
   "id": "e41348db",
   "metadata": {},
   "outputs": [
    {
     "data": {
      "text/html": [
       "<div>\n",
       "<style scoped>\n",
       "    .dataframe tbody tr th:only-of-type {\n",
       "        vertical-align: middle;\n",
       "    }\n",
       "\n",
       "    .dataframe tbody tr th {\n",
       "        vertical-align: top;\n",
       "    }\n",
       "\n",
       "    .dataframe thead th {\n",
       "        text-align: right;\n",
       "    }\n",
       "</style>\n",
       "<table border=\"1\" class=\"dataframe\">\n",
       "  <thead>\n",
       "    <tr style=\"text-align: right;\">\n",
       "      <th></th>\n",
       "      <th>pdays</th>\n",
       "      <th>campaign</th>\n",
       "      <th>previous</th>\n",
       "    </tr>\n",
       "  </thead>\n",
       "  <tbody>\n",
       "    <tr>\n",
       "      <th>count</th>\n",
       "      <td>11162.000000</td>\n",
       "      <td>11162.000000</td>\n",
       "      <td>11162.000000</td>\n",
       "    </tr>\n",
       "    <tr>\n",
       "      <th>mean</th>\n",
       "      <td>51.330407</td>\n",
       "      <td>2.508421</td>\n",
       "      <td>0.832557</td>\n",
       "    </tr>\n",
       "    <tr>\n",
       "      <th>std</th>\n",
       "      <td>108.758282</td>\n",
       "      <td>2.722077</td>\n",
       "      <td>2.292007</td>\n",
       "    </tr>\n",
       "    <tr>\n",
       "      <th>min</th>\n",
       "      <td>-1.000000</td>\n",
       "      <td>1.000000</td>\n",
       "      <td>0.000000</td>\n",
       "    </tr>\n",
       "    <tr>\n",
       "      <th>25%</th>\n",
       "      <td>-1.000000</td>\n",
       "      <td>1.000000</td>\n",
       "      <td>0.000000</td>\n",
       "    </tr>\n",
       "    <tr>\n",
       "      <th>50%</th>\n",
       "      <td>-1.000000</td>\n",
       "      <td>2.000000</td>\n",
       "      <td>0.000000</td>\n",
       "    </tr>\n",
       "    <tr>\n",
       "      <th>75%</th>\n",
       "      <td>20.750000</td>\n",
       "      <td>3.000000</td>\n",
       "      <td>1.000000</td>\n",
       "    </tr>\n",
       "    <tr>\n",
       "      <th>max</th>\n",
       "      <td>854.000000</td>\n",
       "      <td>63.000000</td>\n",
       "      <td>58.000000</td>\n",
       "    </tr>\n",
       "  </tbody>\n",
       "</table>\n",
       "</div>"
      ],
      "text/plain": [
       "              pdays      campaign      previous\n",
       "count  11162.000000  11162.000000  11162.000000\n",
       "mean      51.330407      2.508421      0.832557\n",
       "std      108.758282      2.722077      2.292007\n",
       "min       -1.000000      1.000000      0.000000\n",
       "25%       -1.000000      1.000000      0.000000\n",
       "50%       -1.000000      2.000000      0.000000\n",
       "75%       20.750000      3.000000      1.000000\n",
       "max      854.000000     63.000000     58.000000"
      ]
     },
     "execution_count": 24,
     "metadata": {},
     "output_type": "execute_result"
    }
   ],
   "source": [
    "df[['pdays', 'campaign', 'previous']].describe()"
   ]
  },
  {
   "cell_type": "markdown",
   "id": "d8ad8899",
   "metadata": {},
   "source": [
    "## Centrandonos en pdays\n",
    "\"pdays\" contiene el número de días transcurridos desde la última vez que se contactó al cliente en una campaña anterior. Al analizar los datos de \"pdays\", observemos que:"
   ]
  },
  {
   "cell_type": "markdown",
   "id": "28f9696e",
   "metadata": {},
   "source": [
    "Porcentaje de valores 'pdays' superiores a 400:"
   ]
  },
  {
   "cell_type": "code",
   "execution_count": 26,
   "id": "4b9ee60c",
   "metadata": {},
   "outputs": [
    {
     "data": {
      "text/plain": [
       "1.2005017022039062"
      ]
     },
     "execution_count": 26,
     "metadata": {},
     "output_type": "execute_result"
    }
   ],
   "source": [
    "len (df[df['pdays'] > 400] ) / len(df) * 100"
   ]
  },
  {
   "cell_type": "markdown",
   "id": "6a5e4607",
   "metadata": {},
   "source": [
    "Solo el 1,2 % de los valores son menores a 400 dias. Posiblemente sean valores atípicos, por lo que deberíamos considerar imputar algo (posiblemente el valor medio) en lugar de estos valores.\n",
    "\n",
    "-1 posiblemente significa que no se contactó al cliente antes o que faltan datos.\n",
    "\n",
    "Como no se sabe qué significa exactamente -1 se sugiere omitir esta columna"
   ]
  },
  {
   "cell_type": "markdown",
   "id": "e04b8f2f",
   "metadata": {},
   "source": [
    "\"campaign\" contiene el número de contactos realizados durante esta campaña y para este cliente (numérico, incluye el último contacto). "
   ]
  },
  {
   "cell_type": "code",
   "execution_count": 27,
   "id": "483a4c34",
   "metadata": {},
   "outputs": [
    {
     "data": {
      "text/plain": [
       "0.035835871707579285"
      ]
     },
     "execution_count": 27,
     "metadata": {},
     "output_type": "execute_result"
    }
   ],
   "source": [
    "len (df[df['campaign'] > 34] ) / len(df) * 100"
   ]
  },
  {
   "cell_type": "markdown",
   "id": "06c20609",
   "metadata": {},
   "source": [
    "Los valores de \"campaign\"  menores a 34 son claramente irrelevantes(Por el codigo anterior), representan solo el 0.036, por lo que se sugiere imputarlos con los valores promedio.\n",
    "\n"
   ]
  },
  {
   "cell_type": "markdown",
   "id": "d7bf3d0d",
   "metadata": {},
   "source": [
    "\"previous\" contiene el número de contactos realizados antes de esta campaña y para este cliente (numérico). "
   ]
  },
  {
   "cell_type": "markdown",
   "id": "ce1ed0b1",
   "metadata": {},
   "source": [
    "Porcentaje de valores \"previous\" menores a 34:"
   ]
  },
  {
   "cell_type": "code",
   "execution_count": 28,
   "id": "727659a0",
   "metadata": {},
   "outputs": [
    {
     "data": {
      "text/plain": [
       "0.04479483963447411"
      ]
     },
     "execution_count": 28,
     "metadata": {},
     "output_type": "execute_result"
    }
   ],
   "source": [
    "len (df[df['previous'] > 34] ) / len(df) * 100"
   ]
  },
  {
   "cell_type": "markdown",
   "id": "d4e96af9",
   "metadata": {},
   "source": [
    "Como podemos ver de igual manera se tiene para \"previous\""
   ]
  },
  {
   "cell_type": "markdown",
   "id": "7c1f1cfd",
   "metadata": {},
   "source": [
    "## Análisis de la columna de respuesta(deposit).\n",
    "\n",
    "Es muy importante examinar la columna de respuesta, que contiene la información que vamos a predecir. En nuestro caso, debemos examinar la columna \"deposit\" y comparar sus valores con los de otras columnas.\n",
    "\n",
    "Pero antes observaremos el número de valores \"sí\" y \"no\" en la columna de respuesta \"deposit\"."
   ]
  },
  {
   "cell_type": "code",
   "execution_count": 32,
   "id": "ec4ea5b2",
   "metadata": {},
   "outputs": [
    {
     "data": {
      "text/plain": [
       "<Axes: title={'center': 'Valor del depósito cuenta'}, xlabel='deposit'>"
      ]
     },
     "execution_count": 32,
     "metadata": {},
     "output_type": "execute_result"
    },
    {
     "data": {
      "image/png": "[encoded data removed]",
      "text/plain": [
       "<Figure size 432x288 with 1 Axes>"
      ]
     },
     "metadata": {
      "needs_background": "light"
     },
     "output_type": "display_data"
    }
   ],
   "source": [
    "value_counts = df['deposit'].value_counts()\n",
    "\n",
    "value_counts.plot.bar(title = 'Valor del depósito cuenta')"
   ]
  },
  {
   "cell_type": "markdown",
   "id": "e893c052",
   "metadata": {},
   "source": [
    "Del diagrama anterior vemos que los recuentos de los valores \"sí\" y \"no\" para \"deposit\" son similares, por lo que podemos usar la precisión como métrica para un modelo que predice el resultado de la campaña."
   ]
  },
  {
   "cell_type": "markdown",
   "id": "46088d34",
   "metadata": {},
   "source": [
    "Ahora veamos lo que se habia dicho anterior mente, comparar deposit con otra columnas:"
   ]
  },
  {
   "cell_type": "code",
   "execution_count": 35,
   "id": "bf1ab3c7",
   "metadata": {},
   "outputs": [
    {
     "data": {
      "text/plain": [
       "<Axes: title={'center': 'trabajo y depósito'}, xlabel='job'>"
      ]
     },
     "execution_count": 35,
     "metadata": {},
     "output_type": "execute_result"
    },
    {
     "data": {
      "image/png": "[encoded data removed]",
      "text/plain": [
       "<Figure size 432x288 with 1 Axes>"
      ]
     },
     "metadata": {
      "needs_background": "light"
     },
     "output_type": "display_data"
    }
   ],
   "source": [
    "#trabajo y deposit\n",
    "j_df = pd.DataFrame()\n",
    "\n",
    "j_df['yes'] = df[df['deposit'] == 'yes']['job'].value_counts()\n",
    "j_df['no'] = df[df['deposit'] == 'no']['job'].value_counts()\n",
    "\n",
    "j_df.plot.bar(title = 'trabajo y depósito')"
   ]
  },
  {
   "cell_type": "code",
   "execution_count": 42,
   "id": "639c0aad",
   "metadata": {},
   "outputs": [
    {
     "data": {
      "text/plain": [
       "<Axes: title={'center': 'Estado civil y depósito'}, xlabel='marital'>"
      ]
     },
     "execution_count": 42,
     "metadata": {},
     "output_type": "execute_result"
    },
    {
     "data": {
      "image/png": "[encoded data removed]",
      "text/plain": [
       "<Figure size 432x288 with 1 Axes>"
      ]
     },
     "metadata": {
      "needs_background": "light"
     },
     "output_type": "display_data"
    }
   ],
   "source": [
    "#estado civil y depósito\n",
    "j_df = pd.DataFrame()\n",
    "\n",
    "j_df['yes'] = df[df['deposit'] == 'yes']['marital'].value_counts()\n",
    "j_df['no'] = df[df['deposit'] == 'no']['marital'].value_counts()\n",
    "\n",
    "j_df.plot.bar(title = 'Estado civil y depósito')"
   ]
  },
  {
   "cell_type": "code",
   "execution_count": 41,
   "id": "c62c1faa",
   "metadata": {},
   "outputs": [
    {
     "data": {
      "text/plain": [
       "<Axes: title={'center': 'Educacion y deposit'}, xlabel='education'>"
      ]
     },
     "execution_count": 41,
     "metadata": {},
     "output_type": "execute_result"
    },
    {
     "data": {
      "image/png": "[encoded data removed]",
      "text/plain": [
       "<Figure size 432x288 with 1 Axes>"
      ]
     },
     "metadata": {
      "needs_background": "light"
     },
     "output_type": "display_data"
    }
   ],
   "source": [
    "#educacion y deposit\n",
    "j_df = pd.DataFrame()\n",
    "\n",
    "j_df['yes'] = df[df['deposit'] == 'yes']['education'].value_counts()\n",
    "j_df['no'] = df[df['deposit'] == 'no']['education'].value_counts()\n",
    "\n",
    "j_df.plot.bar(title = 'Educacion y deposit')"
   ]
  },
  {
   "cell_type": "code",
   "execution_count": 38,
   "id": "22c4e785",
   "metadata": {},
   "outputs": [
    {
     "data": {
      "text/plain": [
       "<Axes: title={'center': 'Tipo de contacto y depósito'}, xlabel='contact'>"
      ]
     },
     "execution_count": 38,
     "metadata": {},
     "output_type": "execute_result"
    },
    {
     "data": {
      "image/png": "[encoded data removed]",
      "text/plain": [
       "<Figure size 432x288 with 1 Axes>"
      ]
     },
     "metadata": {
      "needs_background": "light"
     },
     "output_type": "display_data"
    }
   ],
   "source": [
    "#Tipo de contacto y depósito \n",
    "j_df = pd.DataFrame()\n",
    "\n",
    "j_df['yes'] = df[df['deposit'] == 'yes']['contact'].value_counts()\n",
    "j_df['no'] = df[df['deposit'] == 'no']['contact'].value_counts()\n",
    "\n",
    "j_df.plot.bar(title = 'Tipo de contacto y depósito')"
   ]
  },
  {
   "cell_type": "markdown",
   "id": "849975a0",
   "metadata": {},
   "source": [
    "## De los diagramas anteriores se obtiene:\n",
    "\n",
    "Los clientes con empleos manuales(Blue collar) y de servicios(services) tienen menos probabilidades de suscribirse a un depósito a plazo.\n",
    "\n",
    "Los clientes casados tienen menos probabilidades de suscribirse a un depósito a plazo.\n",
    "\n",
    "En educacion y deposito tenemos los de secundaria tienen menos probabilidades de suscribirse.\n",
    "\n",
    "## Ahora veamos cómo las columnas numéricas afectan la suscripción a un depósito a plazo."
   ]
  },
  {
   "cell_type": "code",
   "execution_count": 43,
   "id": "39da6bf5",
   "metadata": {},
   "outputs": [
    {
     "data": {
      "text/html": [
       "<div>\n",
       "<style scoped>\n",
       "    .dataframe tbody tr th:only-of-type {\n",
       "        vertical-align: middle;\n",
       "    }\n",
       "\n",
       "    .dataframe tbody tr th {\n",
       "        vertical-align: top;\n",
       "    }\n",
       "\n",
       "    .dataframe thead th {\n",
       "        text-align: right;\n",
       "    }\n",
       "</style>\n",
       "<table border=\"1\" class=\"dataframe\">\n",
       "  <thead>\n",
       "    <tr style=\"text-align: right;\">\n",
       "      <th></th>\n",
       "      <th>balance_yes</th>\n",
       "      <th>balance_no</th>\n",
       "    </tr>\n",
       "  </thead>\n",
       "  <tbody>\n",
       "    <tr>\n",
       "      <th>count</th>\n",
       "      <td>5289.000000</td>\n",
       "      <td>5873.000000</td>\n",
       "    </tr>\n",
       "    <tr>\n",
       "      <th>mean</th>\n",
       "      <td>1804.267915</td>\n",
       "      <td>1280.227141</td>\n",
       "    </tr>\n",
       "    <tr>\n",
       "      <th>std</th>\n",
       "      <td>3501.104777</td>\n",
       "      <td>2933.411934</td>\n",
       "    </tr>\n",
       "    <tr>\n",
       "      <th>min</th>\n",
       "      <td>-3058.000000</td>\n",
       "      <td>-6847.000000</td>\n",
       "    </tr>\n",
       "    <tr>\n",
       "      <th>25%</th>\n",
       "      <td>210.000000</td>\n",
       "      <td>64.000000</td>\n",
       "    </tr>\n",
       "    <tr>\n",
       "      <th>50%</th>\n",
       "      <td>733.000000</td>\n",
       "      <td>414.000000</td>\n",
       "    </tr>\n",
       "    <tr>\n",
       "      <th>75%</th>\n",
       "      <td>2159.000000</td>\n",
       "      <td>1324.000000</td>\n",
       "    </tr>\n",
       "    <tr>\n",
       "      <th>max</th>\n",
       "      <td>81204.000000</td>\n",
       "      <td>66653.000000</td>\n",
       "    </tr>\n",
       "  </tbody>\n",
       "</table>\n",
       "</div>"
      ],
      "text/plain": [
       "        balance_yes    balance_no\n",
       "count   5289.000000   5873.000000\n",
       "mean    1804.267915   1280.227141\n",
       "std     3501.104777   2933.411934\n",
       "min    -3058.000000  -6847.000000\n",
       "25%      210.000000     64.000000\n",
       "50%      733.000000    414.000000\n",
       "75%     2159.000000   1324.000000\n",
       "max    81204.000000  66653.000000"
      ]
     },
     "execution_count": 43,
     "metadata": {},
     "output_type": "execute_result"
    }
   ],
   "source": [
    "#balance y deposit\n",
    "\n",
    "b_df = pd.DataFrame()\n",
    "b_df['balance_yes'] = (df[df['deposit'] == 'yes'][['deposit','balance']].describe())['balance']\n",
    "b_df['balance_no'] = (df[df['deposit'] == 'no'][['deposit','balance']].describe())['balance']\n",
    "\n",
    "b_df"
   ]
  },
  {
   "cell_type": "code",
   "execution_count": 44,
   "id": "e752dc71",
   "metadata": {},
   "outputs": [
    {
     "data": {
      "text/plain": [
       "<Axes: title={'center': 'Estadísticas de saldos y depósitos'}>"
      ]
     },
     "execution_count": 44,
     "metadata": {},
     "output_type": "execute_result"
    },
    {
     "data": {
      "image/png": "[encoded data removed]",
      "text/plain": [
       "<Figure size 432x288 with 1 Axes>"
      ]
     },
     "metadata": {
      "needs_background": "light"
     },
     "output_type": "display_data"
    }
   ],
   "source": [
    "b_df.drop(['count', '25%', '50%', '75%']).plot.bar(title = 'Estadísticas de saldos y depósitos')"
   ]
  },
  {
   "cell_type": "code",
   "execution_count": 97,
   "id": "25775b64",
   "metadata": {},
   "outputs": [
    {
     "data": {
      "text/html": [
       "<div>\n",
       "<style scoped>\n",
       "    .dataframe tbody tr th:only-of-type {\n",
       "        vertical-align: middle;\n",
       "    }\n",
       "\n",
       "    .dataframe tbody tr th {\n",
       "        vertical-align: top;\n",
       "    }\n",
       "\n",
       "    .dataframe thead th {\n",
       "        text-align: right;\n",
       "    }\n",
       "</style>\n",
       "<table border=\"1\" class=\"dataframe\">\n",
       "  <thead>\n",
       "    <tr style=\"text-align: right;\">\n",
       "      <th></th>\n",
       "      <th>age_yes</th>\n",
       "      <th>age_no</th>\n",
       "    </tr>\n",
       "  </thead>\n",
       "  <tbody>\n",
       "    <tr>\n",
       "      <th>count</th>\n",
       "      <td>5289.000000</td>\n",
       "      <td>5873.000000</td>\n",
       "    </tr>\n",
       "    <tr>\n",
       "      <th>mean</th>\n",
       "      <td>41.670070</td>\n",
       "      <td>40.837391</td>\n",
       "    </tr>\n",
       "    <tr>\n",
       "      <th>std</th>\n",
       "      <td>13.497781</td>\n",
       "      <td>10.264815</td>\n",
       "    </tr>\n",
       "    <tr>\n",
       "      <th>min</th>\n",
       "      <td>18.000000</td>\n",
       "      <td>18.000000</td>\n",
       "    </tr>\n",
       "    <tr>\n",
       "      <th>25%</th>\n",
       "      <td>31.000000</td>\n",
       "      <td>33.000000</td>\n",
       "    </tr>\n",
       "    <tr>\n",
       "      <th>50%</th>\n",
       "      <td>38.000000</td>\n",
       "      <td>39.000000</td>\n",
       "    </tr>\n",
       "    <tr>\n",
       "      <th>75%</th>\n",
       "      <td>50.000000</td>\n",
       "      <td>48.000000</td>\n",
       "    </tr>\n",
       "    <tr>\n",
       "      <th>max</th>\n",
       "      <td>95.000000</td>\n",
       "      <td>89.000000</td>\n",
       "    </tr>\n",
       "  </tbody>\n",
       "</table>\n",
       "</div>"
      ],
      "text/plain": [
       "           age_yes       age_no\n",
       "count  5289.000000  5873.000000\n",
       "mean     41.670070    40.837391\n",
       "std      13.497781    10.264815\n",
       "min      18.000000    18.000000\n",
       "25%      31.000000    33.000000\n",
       "50%      38.000000    39.000000\n",
       "75%      50.000000    48.000000\n",
       "max      95.000000    89.000000"
      ]
     },
     "execution_count": 97,
     "metadata": {},
     "output_type": "execute_result"
    }
   ],
   "source": [
    "#age and deposit\n",
    "\n",
    "a_df = pd.DataFrame()\n",
    "a_df['age_yes'] = (df[df['deposit'] == 'yes'][['deposit','age']].describe())['age']\n",
    "a_df['age_no'] = (df[df['deposit'] == 'no'][['deposit','age']].describe())['age']\n",
    "a_df"
   ]
  },
  {
   "cell_type": "code",
   "execution_count": 98,
   "id": "3e872778",
   "metadata": {},
   "outputs": [
    {
     "data": {
      "text/plain": [
       "<Axes: title={'center': 'Estadísticas de edad y depósitos'}>"
      ]
     },
     "execution_count": 98,
     "metadata": {},
     "output_type": "execute_result"
    },
    {
     "data": {
      "image/png": "[encoded data removed]",
      "text/plain": [
       "<Figure size 432x288 with 1 Axes>"
      ]
     },
     "metadata": {
      "needs_background": "light"
     },
     "output_type": "display_data"
    }
   ],
   "source": [
    "a_df.drop(['count', '25%', '50%', '75%']).plot.bar(title = 'Estadísticas de edad y depósitos')"
   ]
  },
  {
   "cell_type": "code",
   "execution_count": 99,
   "id": "05d07d76",
   "metadata": {},
   "outputs": [
    {
     "data": {
      "text/html": [
       "<div>\n",
       "<style scoped>\n",
       "    .dataframe tbody tr th:only-of-type {\n",
       "        vertical-align: middle;\n",
       "    }\n",
       "\n",
       "    .dataframe tbody tr th {\n",
       "        vertical-align: top;\n",
       "    }\n",
       "\n",
       "    .dataframe thead th {\n",
       "        text-align: right;\n",
       "    }\n",
       "</style>\n",
       "<table border=\"1\" class=\"dataframe\">\n",
       "  <thead>\n",
       "    <tr style=\"text-align: right;\">\n",
       "      <th></th>\n",
       "      <th>campaign_yes</th>\n",
       "      <th>campaign_no</th>\n",
       "    </tr>\n",
       "  </thead>\n",
       "  <tbody>\n",
       "    <tr>\n",
       "      <th>count</th>\n",
       "      <td>5289.000000</td>\n",
       "      <td>5873.000000</td>\n",
       "    </tr>\n",
       "    <tr>\n",
       "      <th>mean</th>\n",
       "      <td>2.141047</td>\n",
       "      <td>2.839264</td>\n",
       "    </tr>\n",
       "    <tr>\n",
       "      <th>std</th>\n",
       "      <td>1.921826</td>\n",
       "      <td>3.244474</td>\n",
       "    </tr>\n",
       "    <tr>\n",
       "      <th>min</th>\n",
       "      <td>1.000000</td>\n",
       "      <td>1.000000</td>\n",
       "    </tr>\n",
       "    <tr>\n",
       "      <th>25%</th>\n",
       "      <td>1.000000</td>\n",
       "      <td>1.000000</td>\n",
       "    </tr>\n",
       "    <tr>\n",
       "      <th>50%</th>\n",
       "      <td>2.000000</td>\n",
       "      <td>2.000000</td>\n",
       "    </tr>\n",
       "    <tr>\n",
       "      <th>75%</th>\n",
       "      <td>3.000000</td>\n",
       "      <td>3.000000</td>\n",
       "    </tr>\n",
       "    <tr>\n",
       "      <th>max</th>\n",
       "      <td>32.000000</td>\n",
       "      <td>63.000000</td>\n",
       "    </tr>\n",
       "  </tbody>\n",
       "</table>\n",
       "</div>"
      ],
      "text/plain": [
       "       campaign_yes  campaign_no\n",
       "count   5289.000000  5873.000000\n",
       "mean       2.141047     2.839264\n",
       "std        1.921826     3.244474\n",
       "min        1.000000     1.000000\n",
       "25%        1.000000     1.000000\n",
       "50%        2.000000     2.000000\n",
       "75%        3.000000     3.000000\n",
       "max       32.000000    63.000000"
      ]
     },
     "execution_count": 99,
     "metadata": {},
     "output_type": "execute_result"
    }
   ],
   "source": [
    "#número de contactos realizados durante esta campaña ('campaign') y depósito\n",
    "c_df = pd.DataFrame()\n",
    "c_df['campaign_yes'] = (df[df['deposit'] == 'yes'][['deposit','campaign']].describe())['campaign']\n",
    "c_df['campaign_no'] = (df[df['deposit'] == 'no'][['deposit','campaign']].describe())['campaign']\n",
    "\n",
    "c_df"
   ]
  },
  {
   "cell_type": "code",
   "execution_count": 100,
   "id": "64d95b33",
   "metadata": {},
   "outputs": [
    {
     "data": {
      "text/plain": [
       "<Axes: title={'center': 'Estadísticas de número de contactos realizados durante esta campaña y depósitos'}>"
      ]
     },
     "execution_count": 100,
     "metadata": {},
     "output_type": "execute_result"
    },
    {
     "data": {
      "image/png": "[encoded data removed]",
      "text/plain": [
       "<Figure size 432x288 with 1 Axes>"
      ]
     },
     "metadata": {
      "needs_background": "light"
     },
     "output_type": "display_data"
    }
   ],
   "source": [
    "c_df.drop(['count', '25%', '50%', '75%']).plot.bar(title = 'Estadísticas de número de contactos realizados durante esta campaña y depósitos')"
   ]
  },
  {
   "cell_type": "code",
   "execution_count": 47,
   "id": "8a3104e2",
   "metadata": {},
   "outputs": [
    {
     "data": {
      "text/plain": [
       "<Axes: title={'center': 'Estadistica de número de contactos realizados durante la campaña anterior Y Deposito'}>"
      ]
     },
     "execution_count": 47,
     "metadata": {},
     "output_type": "execute_result"
    },
    {
     "data": {
      "image/png": "[encoded data removed]",
      "text/plain": [
       "<Figure size 432x288 with 1 Axes>"
      ]
     },
     "metadata": {
      "needs_background": "light"
     },
     "output_type": "display_data"
    }
   ],
   "source": [
    "#número de contactos realizados durante la campaña anterior ('previous') Y Deposito\n",
    "p_df = pd.DataFrame()\n",
    "p_df['previous_yes'] = (df[df['deposit'] == 'yes'][['deposit','previous']].describe())['previous']\n",
    "p_df['previous_no'] = (df[df['deposit'] == 'no'][['deposit','previous']].describe())['previous']\n",
    "\n",
    "p_df.drop(['count', '25%', '50%', '75%']).plot.bar(title = 'Estadistica de número de contactos realizados durante la campaña anterior Y Deposito')"
   ]
  },
  {
   "cell_type": "markdown",
   "id": "aa20b066",
   "metadata": {},
   "source": [
    "De los diagramas anteriores se tiene que:\n",
    "\n",
    "Las personas que contrataron un depósito a plazo fijo tienden a tener mayores valores de saldo y antigüedad.\n",
    "\n",
    "Las personas que contrataron un depósito a plazo fijo tienden a tener menos contactos durante esta campaña."
   ]
  },
  {
   "cell_type": "code",
   "execution_count": null,
   "id": "4eeb888d",
   "metadata": {},
   "outputs": [],
   "source": [
    "#age and deposit\n",
    "\n",
    "a_df = pd.DataFrame()\n",
    "a_df['age_yes'] = (df[df['deposit'] == 'yes'][['deposit','age']].describe())['age']\n",
    "a_df['age_no'] = (df[df['deposit'] == 'no'][['deposit','age']].describe())['age']\n",
    "a_df"
   ]
  },
  {
   "cell_type": "markdown",
   "id": "c51092ed",
   "metadata": {},
   "source": [
    "## Limpieza de datos\n",
    "\n",
    "Antes de aplicar técnicas de aprendizaje automático, debemos preparar el conjunto de datos para su procesamiento:\n",
    "\n",
    "Convertir las columnas con valores \"sí\" y \"no\" en columnas booleanas(0=no y 1=si)\n",
    "\n",
    "Convertir las columnas categóricas en variables ficticias."
   ]
  },
  {
   "cell_type": "code",
   "execution_count": 48,
   "id": "297299c7",
   "metadata": {},
   "outputs": [],
   "source": [
    "def get_dummy_from_bool(row, column_name):\n",
    "    ''' Devuelve 0 si el valor en column_name es no, devuelve 1 si el valor en column_name es sí'''\n",
    "    return 1 if row[column_name] == 'yes' else 0\n",
    "\n",
    "def get_correct_values(row, column_name, threshold, df):\n",
    "    ''' Devuelve el valor medio si el valor en column_name está por encima del umbral'''\n",
    "    if row[column_name] <= threshold:\n",
    "        return row[column_name]\n",
    "    else:\n",
    "        mean = df[df[column_name] <= threshold][column_name].mean()\n",
    "        return mean\n",
    "\n",
    "def clean_data(df):\n",
    "    '''\n",
    "    ENTRADA\n",
    "    df - Dataframe de Pandas que contiene el conjunto de datos de la campaña de marketing bancario\n",
    "\n",
    "    SALIDA\n",
    "    df - Conjunto de datos depurado:\n",
    "    1. Las columnas con valores \"sí\" y \"no\" se convierten en variables booleanas(0=no y 1=0);\n",
    "    2. Las columnas categóricas se convierten en variables ficticias;\n",
    "    3. Se eliminan las columnas irrelevantes.\n",
    "    4. Se imputan los valores incorrectos.\n",
    "    '''\n",
    "    \n",
    "    cleaned_df = df.copy()\n",
    "    \n",
    "    #convierte columnas que contienen valores 'sí' y 'no' en variables booleanas y elimina las columnas originales\n",
    "    bool_columns = ['default', 'housing', 'loan', 'deposit']\n",
    "    for bool_col in bool_columns:\n",
    "        cleaned_df[bool_col + '_bool'] = df.apply(lambda row: get_dummy_from_bool(row, bool_col),axis=1)\n",
    "    \n",
    "    cleaned_df = cleaned_df.drop(columns = bool_columns)\n",
    "    \n",
    "    #convertir columnas categóricas en ficticias\n",
    "    cat_columns = ['job', 'marital', 'education', 'contact', 'month', 'poutcome']\n",
    "    \n",
    "    for col in  cat_columns:\n",
    "        cleaned_df = pd.concat([cleaned_df.drop(col, axis=1),\n",
    "                                pd.get_dummies(cleaned_df[col], prefix=col, prefix_sep='_',\n",
    "                                               drop_first=True, dummy_na=False)], axis=1)\n",
    "    \n",
    "    #eliminar columnas irrelevantes\n",
    "    cleaned_df = cleaned_df.drop(columns = ['pdays'])\n",
    "    \n",
    "    #Imputar valores incorrectos y eliminar columnas originales\n",
    "    cleaned_df['campaign_cleaned'] = df.apply(lambda row: get_correct_values(row, 'campaign', 34, cleaned_df),axis=1)\n",
    "    cleaned_df['previous_cleaned'] = df.apply(lambda row: get_correct_values(row, 'previous', 34, cleaned_df),axis=1)\n",
    "    \n",
    "    cleaned_df = cleaned_df.drop(columns = ['campaign', 'previous'])\n",
    "    \n",
    "    return cleaned_df"
   ]
  },
  {
   "cell_type": "code",
   "execution_count": 51,
   "id": "7ecde985",
   "metadata": {},
   "outputs": [
    {
     "data": {
      "text/html": [
       "<div>\n",
       "<style scoped>\n",
       "    .dataframe tbody tr th:only-of-type {\n",
       "        vertical-align: middle;\n",
       "    }\n",
       "\n",
       "    .dataframe tbody tr th {\n",
       "        vertical-align: top;\n",
       "    }\n",
       "\n",
       "    .dataframe thead th {\n",
       "        text-align: right;\n",
       "    }\n",
       "</style>\n",
       "<table border=\"1\" class=\"dataframe\">\n",
       "  <thead>\n",
       "    <tr style=\"text-align: right;\">\n",
       "      <th></th>\n",
       "      <th>age</th>\n",
       "      <th>balance</th>\n",
       "      <th>day</th>\n",
       "      <th>duration</th>\n",
       "      <th>default_bool</th>\n",
       "      <th>housing_bool</th>\n",
       "      <th>loan_bool</th>\n",
       "      <th>deposit_bool</th>\n",
       "      <th>job_blue-collar</th>\n",
       "      <th>job_entrepreneur</th>\n",
       "      <th>...</th>\n",
       "      <th>month_mar</th>\n",
       "      <th>month_may</th>\n",
       "      <th>month_nov</th>\n",
       "      <th>month_oct</th>\n",
       "      <th>month_sep</th>\n",
       "      <th>poutcome_other</th>\n",
       "      <th>poutcome_success</th>\n",
       "      <th>poutcome_unknown</th>\n",
       "      <th>campaign_cleaned</th>\n",
       "      <th>previous_cleaned</th>\n",
       "    </tr>\n",
       "  </thead>\n",
       "  <tbody>\n",
       "    <tr>\n",
       "      <th>0</th>\n",
       "      <td>59</td>\n",
       "      <td>2343</td>\n",
       "      <td>5</td>\n",
       "      <td>1042</td>\n",
       "      <td>0</td>\n",
       "      <td>1</td>\n",
       "      <td>0</td>\n",
       "      <td>1</td>\n",
       "      <td>False</td>\n",
       "      <td>False</td>\n",
       "      <td>...</td>\n",
       "      <td>False</td>\n",
       "      <td>True</td>\n",
       "      <td>False</td>\n",
       "      <td>False</td>\n",
       "      <td>False</td>\n",
       "      <td>False</td>\n",
       "      <td>False</td>\n",
       "      <td>True</td>\n",
       "      <td>1.0</td>\n",
       "      <td>0.0</td>\n",
       "    </tr>\n",
       "    <tr>\n",
       "      <th>1</th>\n",
       "      <td>56</td>\n",
       "      <td>45</td>\n",
       "      <td>5</td>\n",
       "      <td>1467</td>\n",
       "      <td>0</td>\n",
       "      <td>0</td>\n",
       "      <td>0</td>\n",
       "      <td>1</td>\n",
       "      <td>False</td>\n",
       "      <td>False</td>\n",
       "      <td>...</td>\n",
       "      <td>False</td>\n",
       "      <td>True</td>\n",
       "      <td>False</td>\n",
       "      <td>False</td>\n",
       "      <td>False</td>\n",
       "      <td>False</td>\n",
       "      <td>False</td>\n",
       "      <td>True</td>\n",
       "      <td>1.0</td>\n",
       "      <td>0.0</td>\n",
       "    </tr>\n",
       "    <tr>\n",
       "      <th>2</th>\n",
       "      <td>41</td>\n",
       "      <td>1270</td>\n",
       "      <td>5</td>\n",
       "      <td>1389</td>\n",
       "      <td>0</td>\n",
       "      <td>1</td>\n",
       "      <td>0</td>\n",
       "      <td>1</td>\n",
       "      <td>False</td>\n",
       "      <td>False</td>\n",
       "      <td>...</td>\n",
       "      <td>False</td>\n",
       "      <td>True</td>\n",
       "      <td>False</td>\n",
       "      <td>False</td>\n",
       "      <td>False</td>\n",
       "      <td>False</td>\n",
       "      <td>False</td>\n",
       "      <td>True</td>\n",
       "      <td>1.0</td>\n",
       "      <td>0.0</td>\n",
       "    </tr>\n",
       "    <tr>\n",
       "      <th>3</th>\n",
       "      <td>55</td>\n",
       "      <td>2476</td>\n",
       "      <td>5</td>\n",
       "      <td>579</td>\n",
       "      <td>0</td>\n",
       "      <td>1</td>\n",
       "      <td>0</td>\n",
       "      <td>1</td>\n",
       "      <td>False</td>\n",
       "      <td>False</td>\n",
       "      <td>...</td>\n",
       "      <td>False</td>\n",
       "      <td>True</td>\n",
       "      <td>False</td>\n",
       "      <td>False</td>\n",
       "      <td>False</td>\n",
       "      <td>False</td>\n",
       "      <td>False</td>\n",
       "      <td>True</td>\n",
       "      <td>1.0</td>\n",
       "      <td>0.0</td>\n",
       "    </tr>\n",
       "    <tr>\n",
       "      <th>4</th>\n",
       "      <td>54</td>\n",
       "      <td>184</td>\n",
       "      <td>5</td>\n",
       "      <td>673</td>\n",
       "      <td>0</td>\n",
       "      <td>0</td>\n",
       "      <td>0</td>\n",
       "      <td>1</td>\n",
       "      <td>False</td>\n",
       "      <td>False</td>\n",
       "      <td>...</td>\n",
       "      <td>False</td>\n",
       "      <td>True</td>\n",
       "      <td>False</td>\n",
       "      <td>False</td>\n",
       "      <td>False</td>\n",
       "      <td>False</td>\n",
       "      <td>False</td>\n",
       "      <td>True</td>\n",
       "      <td>2.0</td>\n",
       "      <td>0.0</td>\n",
       "    </tr>\n",
       "    <tr>\n",
       "      <th>5</th>\n",
       "      <td>42</td>\n",
       "      <td>0</td>\n",
       "      <td>5</td>\n",
       "      <td>562</td>\n",
       "      <td>0</td>\n",
       "      <td>1</td>\n",
       "      <td>1</td>\n",
       "      <td>1</td>\n",
       "      <td>False</td>\n",
       "      <td>False</td>\n",
       "      <td>...</td>\n",
       "      <td>False</td>\n",
       "      <td>True</td>\n",
       "      <td>False</td>\n",
       "      <td>False</td>\n",
       "      <td>False</td>\n",
       "      <td>False</td>\n",
       "      <td>False</td>\n",
       "      <td>True</td>\n",
       "      <td>2.0</td>\n",
       "      <td>0.0</td>\n",
       "    </tr>\n",
       "    <tr>\n",
       "      <th>6</th>\n",
       "      <td>56</td>\n",
       "      <td>830</td>\n",
       "      <td>6</td>\n",
       "      <td>1201</td>\n",
       "      <td>0</td>\n",
       "      <td>1</td>\n",
       "      <td>1</td>\n",
       "      <td>1</td>\n",
       "      <td>False</td>\n",
       "      <td>False</td>\n",
       "      <td>...</td>\n",
       "      <td>False</td>\n",
       "      <td>True</td>\n",
       "      <td>False</td>\n",
       "      <td>False</td>\n",
       "      <td>False</td>\n",
       "      <td>False</td>\n",
       "      <td>False</td>\n",
       "      <td>True</td>\n",
       "      <td>1.0</td>\n",
       "      <td>0.0</td>\n",
       "    </tr>\n",
       "    <tr>\n",
       "      <th>7</th>\n",
       "      <td>60</td>\n",
       "      <td>545</td>\n",
       "      <td>6</td>\n",
       "      <td>1030</td>\n",
       "      <td>0</td>\n",
       "      <td>1</td>\n",
       "      <td>0</td>\n",
       "      <td>1</td>\n",
       "      <td>False</td>\n",
       "      <td>False</td>\n",
       "      <td>...</td>\n",
       "      <td>False</td>\n",
       "      <td>True</td>\n",
       "      <td>False</td>\n",
       "      <td>False</td>\n",
       "      <td>False</td>\n",
       "      <td>False</td>\n",
       "      <td>False</td>\n",
       "      <td>True</td>\n",
       "      <td>1.0</td>\n",
       "      <td>0.0</td>\n",
       "    </tr>\n",
       "    <tr>\n",
       "      <th>8</th>\n",
       "      <td>37</td>\n",
       "      <td>1</td>\n",
       "      <td>6</td>\n",
       "      <td>608</td>\n",
       "      <td>0</td>\n",
       "      <td>1</td>\n",
       "      <td>0</td>\n",
       "      <td>1</td>\n",
       "      <td>False</td>\n",
       "      <td>False</td>\n",
       "      <td>...</td>\n",
       "      <td>False</td>\n",
       "      <td>True</td>\n",
       "      <td>False</td>\n",
       "      <td>False</td>\n",
       "      <td>False</td>\n",
       "      <td>False</td>\n",
       "      <td>False</td>\n",
       "      <td>True</td>\n",
       "      <td>1.0</td>\n",
       "      <td>0.0</td>\n",
       "    </tr>\n",
       "    <tr>\n",
       "      <th>9</th>\n",
       "      <td>28</td>\n",
       "      <td>5090</td>\n",
       "      <td>6</td>\n",
       "      <td>1297</td>\n",
       "      <td>0</td>\n",
       "      <td>1</td>\n",
       "      <td>0</td>\n",
       "      <td>1</td>\n",
       "      <td>False</td>\n",
       "      <td>False</td>\n",
       "      <td>...</td>\n",
       "      <td>False</td>\n",
       "      <td>True</td>\n",
       "      <td>False</td>\n",
       "      <td>False</td>\n",
       "      <td>False</td>\n",
       "      <td>False</td>\n",
       "      <td>False</td>\n",
       "      <td>True</td>\n",
       "      <td>3.0</td>\n",
       "      <td>0.0</td>\n",
       "    </tr>\n",
       "  </tbody>\n",
       "</table>\n",
       "<p>10 rows × 42 columns</p>\n",
       "</div>"
      ],
      "text/plain": [
       "   age  balance  day  duration  default_bool  housing_bool  loan_bool   \n",
       "0   59     2343    5      1042             0             1          0  \\\n",
       "1   56       45    5      1467             0             0          0   \n",
       "2   41     1270    5      1389             0             1          0   \n",
       "3   55     2476    5       579             0             1          0   \n",
       "4   54      184    5       673             0             0          0   \n",
       "5   42        0    5       562             0             1          1   \n",
       "6   56      830    6      1201             0             1          1   \n",
       "7   60      545    6      1030             0             1          0   \n",
       "8   37        1    6       608             0             1          0   \n",
       "9   28     5090    6      1297             0             1          0   \n",
       "\n",
       "   deposit_bool  job_blue-collar  job_entrepreneur  ...  month_mar  month_may   \n",
       "0             1            False             False  ...      False       True  \\\n",
       "1             1            False             False  ...      False       True   \n",
       "2             1            False             False  ...      False       True   \n",
       "3             1            False             False  ...      False       True   \n",
       "4             1            False             False  ...      False       True   \n",
       "5             1            False             False  ...      False       True   \n",
       "6             1            False             False  ...      False       True   \n",
       "7             1            False             False  ...      False       True   \n",
       "8             1            False             False  ...      False       True   \n",
       "9             1            False             False  ...      False       True   \n",
       "\n",
       "   month_nov  month_oct  month_sep  poutcome_other  poutcome_success   \n",
       "0      False      False      False           False             False  \\\n",
       "1      False      False      False           False             False   \n",
       "2      False      False      False           False             False   \n",
       "3      False      False      False           False             False   \n",
       "4      False      False      False           False             False   \n",
       "5      False      False      False           False             False   \n",
       "6      False      False      False           False             False   \n",
       "7      False      False      False           False             False   \n",
       "8      False      False      False           False             False   \n",
       "9      False      False      False           False             False   \n",
       "\n",
       "   poutcome_unknown  campaign_cleaned  previous_cleaned  \n",
       "0              True               1.0               0.0  \n",
       "1              True               1.0               0.0  \n",
       "2              True               1.0               0.0  \n",
       "3              True               1.0               0.0  \n",
       "4              True               2.0               0.0  \n",
       "5              True               2.0               0.0  \n",
       "6              True               1.0               0.0  \n",
       "7              True               1.0               0.0  \n",
       "8              True               1.0               0.0  \n",
       "9              True               3.0               0.0  \n",
       "\n",
       "[10 rows x 42 columns]"
      ]
     },
     "execution_count": 51,
     "metadata": {},
     "output_type": "execute_result"
    }
   ],
   "source": [
    "#Observemos los datos limpios:\n",
    "cleaned_df = clean_data(df)\n",
    "cleaned_df.head(10)"
   ]
  },
  {
   "cell_type": "markdown",
   "id": "6fd4071c",
   "metadata": {},
   "source": [
    "## Machine learning para la predicción de resultados de campañas\n",
    "## Modelo de clasificación para la predicción de resultados de campañas\n",
    "\n",
    "Ahora, utilizaremos conjuntos de datos limpios para predecir resultados de campañas con la ayuda de modelos de clasificación de aprendizaje automático. Se utilizara XGBoost, una de las bibliotecas de aprendizaje automático más comunes para modelado."
   ]
  },
  {
   "cell_type": "markdown",
   "id": "d1e7f13a",
   "metadata": {},
   "source": [
    "Primero Creamos conjuntos de datos \"X\" e \"Y\"(Deposit bool) para entrenar el modelo y dividirlos en conjuntos de datos de entrenamiento y de prueba."
   ]
  },
  {
   "cell_type": "code",
   "execution_count": 52,
   "id": "7bf6692c",
   "metadata": {},
   "outputs": [],
   "source": [
    "X = cleaned_df.drop(columns = 'deposit_bool')\n",
    "y = cleaned_df[['deposit_bool']]"
   ]
  },
  {
   "cell_type": "code",
   "execution_count": 53,
   "id": "b1bf4cc3",
   "metadata": {},
   "outputs": [],
   "source": [
    "X_train, X_test, y_train, y_test = train_test_split(X, y, test_size = 0.3, random_state=42)"
   ]
  },
  {
   "cell_type": "code",
   "execution_count": 65,
   "id": "6b81f577",
   "metadata": {},
   "outputs": [
    {
     "name": "stdout",
     "output_type": "stream",
     "text": [
      "Puntuación de precisión XGB entrenado: 0.914: test: 0.850\n"
     ]
    }
   ],
   "source": [
    "#entrenando el modelo XGBoost\n",
    "xgb = xgboost.XGBClassifier(n_estimators=100, learning_rate=0.08, gamma=0, subsample=0.75,\n",
    "                           colsample_bytree=1, max_depth=7)\n",
    "xgb.fit(X_train,y_train.squeeze().values)\n",
    "\n",
    "#Calcular e imprimir puntuaciones para el modelo para las 15 características principales\n",
    "y_train_preds = xgb.predict(X_train)\n",
    "y_test_preds = xgb.predict(X_test)\n",
    "y_pred_prob = xgb.predict_proba(X_test)\n",
    "print('Puntuación de precisión XGB entrenado: %.3f: test: %.3f' % (\n",
    "        accuracy_score(y_train, y_train_preds),\n",
    "        accuracy_score(y_test, y_test_preds)))"
   ]
  },
  {
   "cell_type": "code",
   "execution_count": 60,
   "id": "4049894b",
   "metadata": {},
   "outputs": [],
   "source": [
    "from sklearn.metrics import roc_curve, auc, roc_auc_score, accuracy_score, precision_score, recall_score, confusion_matrix, classification_report, f1_score"
   ]
  },
  {
   "cell_type": "code",
   "execution_count": 61,
   "id": "c72b5d84",
   "metadata": {},
   "outputs": [
    {
     "name": "stdout",
     "output_type": "stream",
     "text": [
      "              precision    recall  f1-score   support\n",
      "\n",
      "           0       0.87      0.83      0.85      1742\n",
      "           1       0.83      0.87      0.85      1607\n",
      "\n",
      "    accuracy                           0.85      3349\n",
      "   macro avg       0.85      0.85      0.85      3349\n",
      "weighted avg       0.85      0.85      0.85      3349\n",
      "\n"
     ]
    }
   ],
   "source": [
    "print(classification_report(y_test,y_test_preds))"
   ]
  },
  {
   "cell_type": "code",
   "execution_count": 63,
   "id": "b18395da",
   "metadata": {},
   "outputs": [
    {
     "name": "stdout",
     "output_type": "stream",
     "text": [
      "Confusion Matrix:\n",
      "[[1446  296]\n",
      " [ 207 1400]]\n"
     ]
    }
   ],
   "source": [
    "result = confusion_matrix(y_test,y_test_preds)\n",
    "print(\"Confusion Matrix:\")\n",
    "print(result)"
   ]
  },
  {
   "cell_type": "code",
   "execution_count": 64,
   "id": "ce4175f7",
   "metadata": {},
   "outputs": [
    {
     "name": "stdout",
     "output_type": "stream",
     "text": [
      "Accuracy: 0.8498059122126008\n"
     ]
    }
   ],
   "source": [
    "result2 = accuracy_score(y_test,y_test_preds)\n",
    "print(\"Accuracy:\",result2)"
   ]
  },
  {
   "cell_type": "markdown",
   "id": "ab1c24d3",
   "metadata": {},
   "source": [
    "Obtenniendo la importancia de las características del modelo entrenado:"
   ]
  },
  {
   "cell_type": "code",
   "execution_count": 75,
   "id": "b966057c",
   "metadata": {},
   "outputs": [],
   "source": [
    " #Cross validate XGBOOST\n",
    "from sklearn.model_selection import cross_val_predict\n",
    "\n",
    "y_train_pred = cross_val_predict(xgb, X_train, y_train, cv=3)"
   ]
  },
  {
   "cell_type": "code",
   "execution_count": 77,
   "id": "0b0e2712",
   "metadata": {},
   "outputs": [
    {
     "data": {
      "image/png": "[encoded data removed]",
      "text/plain": [
       "<Figure size 864x576 with 2 Axes>"
      ]
     },
     "metadata": {
      "needs_background": "light"
     },
     "output_type": "display_data"
    }
   ],
   "source": [
    "# 4697: no's, 4232: yes\n",
    "conf_matrix = confusion_matrix(y_train, y_train_pred)\n",
    "f, ax = plt.subplots(figsize=(12, 8))\n",
    "sns.heatmap(conf_matrix, annot=True, fmt=\"d\", linewidths=.5, ax=ax)\n",
    "plt.title(\"Confusion Matrix\", fontsize=20)\n",
    "plt.subplots_adjust(left=0.15, right=0.99, bottom=0.15, top=0.99)\n",
    "ax.set_yticks(np.arange(conf_matrix.shape[0]) + 0.5, minor=False)\n",
    "ax.set_xticklabels(\"\")\n",
    "ax.set_yticklabels(['Rechazado T. Deposits', 'Aceptado T. Deposits'], fontsize=16, rotation=360)\n",
    "plt.show()"
   ]
  },
  {
   "cell_type": "markdown",
   "id": "c9858665",
   "metadata": {},
   "source": [
    "Precisión y recuperación:\n",
    "\n",
    "Recuperación: Es el número total de \"Sí\" en la columna de etiquetas del conjunto de datos. Por lo tanto, ¿cuántas etiquetas \"Sí\" detecta nuestro modelo?\n",
    "\n",
    "Precisión: Significa qué tan segura es la predicción de nuestro modelo de que la etiqueta real es un \"Sí\".\n",
    "\n",
    "Compensación de la precisión de recuperación:\n",
    "\n",
    "A medida que aumenta la precisión, disminuye la recuperación y viceversa. Por ejemplo, si aumentamos la precisión del 30 % al 60 %, el modelo selecciona las predicciones que considera con un 60 % de certeza. Si hay un caso en el que el modelo cree que hay un 58 % de probabilidad de que un cliente potencial suscriba un depósito a plazo, lo clasificará como un \"No\". Sin embargo, ese caso fue en realidad un \"Sí\" (el cliente potencial sí suscribió un depósito a plazo). Por eso, cuanto mayor sea la precisión, mayor será la probabilidad de que el modelo pase por alto casos que realmente sean un \"Sí\"."
   ]
  },
  {
   "cell_type": "code",
   "execution_count": 78,
   "id": "7b65bf52",
   "metadata": {},
   "outputs": [
    {
     "name": "stdout",
     "output_type": "stream",
     "text": [
      "Precision Score:  0.831266149870801\n",
      "Recall Score:  0.8737099402498643\n"
     ]
    }
   ],
   "source": [
    "# Encontremos las puntuaciones de precisión y recuperación.\n",
    "from sklearn.metrics import precision_score, recall_score\n",
    "\n",
    "print('Precision Score: ', precision_score(y_train, y_train_pred))\n",
    "\n",
    "print('Recall Score: ', recall_score(y_train, y_train_pred))"
   ]
  },
  {
   "cell_type": "code",
   "execution_count": 84,
   "id": "9329622c",
   "metadata": {},
   "outputs": [],
   "source": [
    "from sklearn.metrics import f1_score"
   ]
  },
  {
   "cell_type": "code",
   "execution_count": 86,
   "id": "358e7ef7",
   "metadata": {},
   "outputs": [],
   "source": [
    "y_pred_proba = xgb.predict_proba(X_test)[:, 1]"
   ]
  },
  {
   "cell_type": "markdown",
   "id": "290da2d4",
   "metadata": {},
   "source": [
    "## ROC AUC Score"
   ]
  },
  {
   "cell_type": "code",
   "execution_count": 94,
   "id": "0122b2f6",
   "metadata": {},
   "outputs": [
    {
     "name": "stdout",
     "output_type": "stream",
     "text": [
      "ROC AUC Score: 0.9247\n"
     ]
    }
   ],
   "source": [
    "roc_auc = roc_auc_score(y_test, y_pred_proba)\n",
    "print(f\"ROC AUC Score: {roc_auc:.4f}\")"
   ]
  },
  {
   "cell_type": "code",
   "execution_count": 96,
   "id": "bcf4fbf1",
   "metadata": {},
   "outputs": [
    {
     "data": {
      "image/png": "[encoded data removed]",
      "text/plain": [
       "<Figure size 576x432 with 1 Axes>"
      ]
     },
     "metadata": {
      "needs_background": "light"
     },
     "output_type": "display_data"
    }
   ],
   "source": [
    "from sklearn.metrics import roc_curve, auc\n",
    "\n",
    "# Calcular la tasa de falsos positivos, la tasa de verdaderos positivos y los umbrales\n",
    "fpr, tpr, thresholds = roc_curve(y_test, y_pred_proba)\n",
    "\n",
    "# Calculate the area under the ROC curve (AUC)\n",
    "roc_auc = auc(fpr, tpr)\n",
    "\n",
    "# Plot the ROC curve\n",
    "plt.figure(figsize=(8, 6))\n",
    "plt.plot(fpr, tpr, color='blue', label=f'ROC curve (AUC = {roc_auc:.4f})')\n",
    "plt.plot([0, 1], [0, 1], color='red', linestyle='--', label='Random guess')\n",
    "plt.xlim([0.0, 1.0])\n",
    "plt.ylim([0.0, 1.05])\n",
    "plt.xlabel('Tasa de falsos positivos')\n",
    "plt.ylabel('Tasa de verdaderos positivos')\n",
    "plt.title('Curva característica de funcionamiento del receptor (ROC)')\n",
    "plt.legend(loc=\"lower right\")\n",
    "plt.show()"
   ]
  },
  {
   "cell_type": "code",
   "execution_count": 58,
   "id": "1e314099",
   "metadata": {},
   "outputs": [
    {
     "data": {
      "image/png": "[encoded data removed]",
      "text/plain": [
       "<Figure size 432x288 with 1 Axes>"
      ]
     },
     "metadata": {
      "needs_background": "light"
     },
     "output_type": "display_data"
    }
   ],
   "source": [
    "headers = [\"name\", \"score\"]\n",
    "values = sorted(zip(X_train.columns, xgb.feature_importances_), key=lambda x: x[1] * -1)\n",
    "xgb_feature_importances = pd.DataFrame(values, columns = headers)\n",
    "\n",
    "#plot importancia de las características\n",
    "x_pos = np.arange(0, len(xgb_feature_importances))\n",
    "plt.bar(x_pos, xgb_feature_importances['score'])\n",
    "plt.xticks(x_pos, xgb_feature_importances['name'])\n",
    "plt.xticks(rotation=90)\n",
    "plt.title('importancia de las características (XGB)')\n",
    "\n",
    "plt.show()"
   ]
  },
  {
   "cell_type": "markdown",
   "id": "5f561b45",
   "metadata": {},
   "source": [
    "Como podemos ver en el diagrama que muestra la importancia de las características, las más importantes son:\n",
    "\n",
    "Saldo de la cuenta del cliente,\n",
    "Edad del cliente,\n",
    "Número de contactos realizados durante esta campaña y duración del contacto,\n",
    "Número de contactos realizados antes de esta campaña.\n",
    "Por lo tanto, los principales resultados del modelo son:\n",
    "\n",
    "Los clientes de mayor edad tienen mayor probabilidad de suscribirse al depósito a plazo.\n",
    "Los clientes con mayor saldo de cuenta tienen mayor probabilidad de suscribirse al depósito a plazo.\n",
    "El número de contactos con los clientes es fundamental. Demasiados contactos con el cliente podrían hacer que rechace la oferta."
   ]
  },
  {
   "cell_type": "markdown",
   "id": "7a52ec35",
   "metadata": {},
   "source": [
    "Hacieendo recomendaciones más específicas:\n",
    "\n",
    "Averigüe el saldo de su cuenta. ¿En qué campaña de marketing debería centrarse?"
   ]
  },
  {
   "cell_type": "code",
   "execution_count": 111,
   "id": "2d11c5d4",
   "metadata": {},
   "outputs": [
    {
     "data": {
      "image/png": "[encoded data removed]",
      "text/plain": [
       "<Figure size 432x288 with 1 Axes>"
      ]
     },
     "metadata": {
      "needs_background": "light"
     },
     "output_type": "display_data"
    }
   ],
   "source": [
    "df_new = cleaned_df.copy()\n",
    "\n",
    "#Introduzca la nueva columna 'balance_buckets' en ''\n",
    "df_new['balance_buckets'] = pd.qcut(df_new['balance'], 50, labels=False, duplicates = 'drop')\n",
    "\n",
    "#Agrupe por 'balance_buckets' y calcule el resultado promedio de la campaña por cada segmento de saldo.\n",
    "mean_deposit = df_new.groupby(['balance_buckets'])['deposit_bool'].mean()\n",
    "\n",
    "#plot\n",
    "plt.plot(mean_deposit.index, mean_deposit.values)\n",
    "plt.title('media % suscripción según saldo de cuenta')\n",
    "plt.xlabel('Saldo bucket')\n",
    "plt.ylabel('% subscription')\n",
    "plt.show()"
   ]
  },
  {
   "cell_type": "code",
   "execution_count": 102,
   "id": "23c0b53b",
   "metadata": {},
   "outputs": [
    {
     "data": {
      "text/plain": [
       "1490"
      ]
     },
     "execution_count": 102,
     "metadata": {},
     "output_type": "execute_result"
    }
   ],
   "source": [
    "df_new[df_new['balance_buckets'] == 34]['balance'].min()"
   ]
  },
  {
   "cell_type": "markdown",
   "id": "c730ea38",
   "metadata": {},
   "source": [
    "Del diagrama anterior, podemos concluir que las campañas de marketing deberían centrarse en los clientes con un saldo de cuenta superior a $1490 ."
   ]
  },
  {
   "cell_type": "code",
   "execution_count": 110,
   "id": "0ba55c57",
   "metadata": {},
   "outputs": [
    {
     "data": {
      "image/png": "[encoded data removed]",
      "text/plain": [
       "<Figure size 432x288 with 1 Axes>"
      ]
     },
     "metadata": {
      "needs_background": "light"
     },
     "output_type": "display_data"
    }
   ],
   "source": [
    "#Introduzca la nueva columna 'age_buckets' en ''\n",
    "df_new['age_buckets'] = pd.qcut(df_new['age'], 20, labels=False, duplicates = 'drop')\n",
    "\n",
    "#Agrupe por 'balance_buckets' y calcule el resultado promedio de la campaña por cada segmento de saldo.\n",
    "mean_age = df_new.groupby(['age_buckets'])['deposit_bool'].mean()\n",
    "\n",
    "#plot\n",
    "plt.plot(mean_age.index, mean_age.values)\n",
    "plt.title('% media de suscripción según edad')\n",
    "plt.xlabel('edad bucket')\n",
    "plt.ylabel('% Suscripcion')\n",
    "plt.show()"
   ]
  },
  {
   "cell_type": "code",
   "execution_count": 105,
   "id": "a7f4fc42",
   "metadata": {},
   "outputs": [
    {
     "data": {
      "text/plain": [
       "31"
      ]
     },
     "execution_count": 105,
     "metadata": {},
     "output_type": "execute_result"
    }
   ],
   "source": [
    "df_new[df_new['age_buckets'] == 3]['age'].max()"
   ]
  },
  {
   "cell_type": "code",
   "execution_count": 106,
   "id": "a156eab7",
   "metadata": {},
   "outputs": [
    {
     "data": {
      "text/plain": [
       "56"
      ]
     },
     "execution_count": 106,
     "metadata": {},
     "output_type": "execute_result"
    }
   ],
   "source": [
    "df_new[df_new['age_buckets'] == 17]['age'].min()"
   ]
  },
  {
   "cell_type": "markdown",
   "id": "8a159139",
   "metadata": {},
   "source": [
    "Se observa que la tasa de suscripción promedio tiende a ser mayor para los clientes entre  31 años y 56."
   ]
  },
  {
   "cell_type": "markdown",
   "id": "96f84036",
   "metadata": {},
   "source": [
    "Ahora determinaremos el número adecuado de contactos con el cliente durante la campaña:"
   ]
  },
  {
   "cell_type": "code",
   "execution_count": 112,
   "id": "d3164f73",
   "metadata": {},
   "outputs": [
    {
     "data": {
      "image/png": "[encoded data removed]",
      "text/plain": [
       "<Figure size 432x288 with 1 Axes>"
      ]
     },
     "metadata": {
      "needs_background": "light"
     },
     "output_type": "display_data"
    }
   ],
   "source": [
    "#introduce new column 'age_buckets' to  ''\n",
    "df_new['campaign_buckets'] = pd.qcut(df_new['campaign_cleaned'], 20, labels=False, duplicates = 'drop')\n",
    "\n",
    "#group by 'balance_buckets' and find average campaign outcome per balance bucket\n",
    "mean_campaign = df_new.groupby(['campaign_buckets'])['deposit_bool'].mean()\n",
    "\n",
    "#plot average campaign outcome per bucket \n",
    "plt.plot(mean_campaign.index, mean_campaign.values)\n",
    "plt.title('media % suscripción según número de contactos')\n",
    "plt.xlabel('Numero de contactos bucket')\n",
    "plt.ylabel('% subscription')\n",
    "plt.show()"
   ]
  },
  {
   "cell_type": "code",
   "execution_count": 113,
   "id": "b0cd3a27",
   "metadata": {},
   "outputs": [
    {
     "data": {
      "text/plain": [
       "4.0"
      ]
     },
     "execution_count": 113,
     "metadata": {},
     "output_type": "execute_result"
    }
   ],
   "source": [
    "df_new[df_new['campaign_buckets'] == 2]['campaign_cleaned'].min()"
   ]
  },
  {
   "cell_type": "markdown",
   "id": "2ceab2cd",
   "metadata": {},
   "source": [
    "Del gráfico anterior vemos que la tasa de suscripción promedio es inferior al 50% si el número de contactos durante la campaña supera los 4."
   ]
  },
  {
   "cell_type": "markdown",
   "id": "2689945d",
   "metadata": {},
   "source": [
    "\n",
    "## Meses de actividad de marketing💸 segun lo visto:\n",
    "\n",
    "Observamos que mayo fue el mes con mayor actividad de marketing. Sin embargo, este no fue el mejor mes, el modelo predice marzo como el mes mas alto, y es interesante ya que, marzo esta penultimo . Para la próxima campaña de marketing, sería prudente que el banco centrara sus esfuerzos en marzo, octubre, agosto y junio(Marzo debería considerarse, ya que fue el penultimo mes con menor actividad de marketing)\n",
    "\n",
    "## Estacionalidad:\n",
    "\n",
    "La predicciones dicen que los clientes potenciales optaron por suscribir depósitos a plazo durante primavera verano. La próxima campaña de marketing debería centrarse en estas temporadas.\n",
    "\n",
    "## Llamadas de campaña:\n",
    "\n",
    "Se debería implementar una política que establezca que no se deben realizar más de tres(En concreto menos de 4) llamadas a un mismo cliente potencial para ahorrar tiempo y esfuerzo en la captación de nuevos clientes. \n",
    "\n",
    "## Categoría de edad:\n",
    "\n",
    "La edad del cliente también influye en el resultado de la campaña. Las futuras campañas deberían centrarse en clientes de entre 30 y 50 años.\n",
    "\n",
    "## Ocupación:\n",
    "\n",
    "No es sorprendente que los clientes potenciales estudiantes o jubilados fueran los más propensos a suscribir un depósito a plazo. Los jubilados tienden a tener más depósitos a plazo para obtener ingresos mediante el pago de intereses. Las personas jubiladas tienden a no gastar grandes cantidades de dinero, por lo que es más probable que lo inviertan prestándolo a la institución financiera. \n",
    "\n",
    "Los clientes con empleos manuales(Blue collar) y de servicios(services) tienen menos probabilidades de suscribirse a un depósito a plazo. Aunque no es mucho, ay que tomarlo en cuenta tambien.\n",
    "\n",
    "## Préstamos y Saldos para Vivienda:\n",
    "\n",
    "Los clientes potenciales con saldo bajo o nulo tenían mayor probabilidad de tener un préstamo para vivienda que las personas con saldo promedio o alto. ¿Qué significa tener un préstamo para vivienda? Esto significa que el cliente potencial tiene dificultades financieras para pagar su préstamo y, por lo tanto, no dispone de efectivo para suscribir una cuenta de depósito a plazo. Sin embargo, observamos que los clientes potenciales con saldo promedio o alto tienen menor probabilidad de tener un préstamo para vivienda y, por lo tanto, mayor probabilidad de abrir un depósito a plazo. Por último, la próxima campaña de marketing debería centrarse en las personas con saldo promedio o alto para aumentar la probabilidad de suscribir un depósito a plazo.\n"
   ]
  },
  {
   "cell_type": "code",
   "execution_count": null,
   "id": "a622b68c",
   "metadata": {},
   "outputs": [],
   "source": []
  }
 ],
 "metadata": {
  "kernelspec": {
   "display_name": "Python 3 (ipykernel)",
   "language": "python",
   "name": "python3"
  },
  "language_info": {
   "codemirror_mode": {
    "name": "ipython",
    "version": 3
   },
   "file_extension": ".py",
   "mimetype": "text/x-python",
   "name": "python",
   "nbconvert_exporter": "python",
   "pygments_lexer": "ipython3",
   "version": "3.9.5"
  }
 },
 "nbformat": 4,
 "nbformat_minor": 5
}
